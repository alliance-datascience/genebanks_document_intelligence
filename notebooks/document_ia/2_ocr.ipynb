{
 "cells": [
  {
   "cell_type": "code",
   "execution_count": null,
   "id": "d0cb95d2",
   "metadata": {
    "tags": []
   },
   "outputs": [],
   "source": [
    "pip install fastparquet pyarrow"
   ]
  },
  {
   "cell_type": "code",
   "execution_count": 1,
   "id": "2a8e7e21",
   "metadata": {
    "tags": []
   },
   "outputs": [],
   "source": [
    "# Librerias\n",
    "import os\n",
    "import boto3\n",
    "import pandas as pd"
   ]
  },
  {
   "cell_type": "code",
   "execution_count": 4,
   "id": "6859676e",
   "metadata": {},
   "outputs": [],
   "source": [
    "# Cliente textract\n",
    "textract_client = boto3.client('textract')"
   ]
  },
  {
   "cell_type": "code",
   "execution_count": 5,
   "id": "46b322fa",
   "metadata": {},
   "outputs": [],
   "source": [
    "#--------------------------------------------------------------------\n",
    "#         PROCESO AUTOMATIZADO\n",
    "#--------------------------------------------------------------------"
   ]
  },
  {
   "cell_type": "code",
   "execution_count": 6,
   "id": "9cf67ceb",
   "metadata": {},
   "outputs": [],
   "source": [
    "# Función que extrae el texto de una imagen\n",
    "def text_from_image(image_path, textract_client):\n",
    "    try:\n",
    "        with open(image_path, 'rb') as image:\n",
    "            response = textract_client.detect_document_text(Document={'Bytes': image.read()})\n",
    "        text = ''\n",
    "        for item in response['Blocks']:\n",
    "            if item['BlockType'] == 'LINE':\n",
    "                text += item['Text'] + '\\n'\n",
    "        return text\n",
    "    except Exception as e:\n",
    "        print(f\"Error al procesar la imagen {image_path}: {e}\")\n",
    "        return None"
   ]
  },
  {
   "cell_type": "code",
   "execution_count": 7,
   "id": "515865a7",
   "metadata": {},
   "outputs": [],
   "source": [
    "# Prueba de la función text_from_image\n",
    "#image_path = '/home/ec2-user/SageMaker/genebanks/data/2_images/Germplasm collection-Colombia-1990/page_1.png'\n",
    "#text = text_from_image(image_path, textract_client)"
   ]
  },
  {
   "cell_type": "code",
   "execution_count": 8,
   "id": "e3e3d8cf",
   "metadata": {},
   "outputs": [],
   "source": [
    "#text"
   ]
  },
  {
   "cell_type": "code",
   "execution_count": 9,
   "id": "ab328589",
   "metadata": {},
   "outputs": [],
   "source": [
    "# Función que guarda todos los textos extraidos de las imagenes de un documento\n",
    "# en un archivo parquet\n",
    "def process_pdf_folder(folder_path, textract_client, output_path):\n",
    "    all_text = []\n",
    "    folder_name = os.path.basename(folder_path)\n",
    "    for filename in os.listdir(folder_path):\n",
    "        if filename.lower().endswith(('.png', '.jpg', '.jpeg')):\n",
    "            image_path = os.path.join(folder_path, filename)\n",
    "            text = text_from_image(image_path, textract_client)\n",
    "            if text is not None:\n",
    "                all_text.append({'Nombre_Carpeta': folder_name, 'Nombre_Imagen': filename, 'Texto_Extraido': text})\n",
    "\n",
    "    if all_text:\n",
    "        df = pd.DataFrame(all_text)\n",
    "        parquet_file = os.path.join(output_path, f'{folder_name}.parquet')\n",
    "        df.to_parquet(parquet_file, index=False)\n",
    "        print(f\"Datos guardados en {parquet_file}\")\n",
    "        return df\n",
    "    return None"
   ]
  },
  {
   "cell_type": "code",
   "execution_count": 10,
   "id": "0e6fd5c2",
   "metadata": {},
   "outputs": [],
   "source": [
    "# Prueba de la función process_pdf_folder\n",
    "#pdf_path = '/home/ec2-user/SageMaker/genebanks/data/2_images/Germplasm collection-Colombia-1990'\n",
    "#output_path = '/home/ec2-user/SageMaker/genebanks/data/3_out_data'\n",
    "#document = process_pdf_folder(pdf_path, textract_client, output_path)"
   ]
  },
  {
   "cell_type": "code",
   "execution_count": 11,
   "id": "dba97de9",
   "metadata": {},
   "outputs": [],
   "source": [
    "#document"
   ]
  },
  {
   "cell_type": "code",
   "execution_count": 12,
   "id": "73465963",
   "metadata": {},
   "outputs": [],
   "source": [
    "# Verificar parquet de salida\n",
    "#parquet_path = '/home/ec2-user/SageMaker/genebanks/data/3_out_data/Germplasm collection-Colombia-1990.parquet'\n",
    "#df = pd.read_parquet(parquet_path, engine='fastparquet')\n",
    "#df"
   ]
  },
  {
   "cell_type": "code",
   "execution_count": 13,
   "id": "9bba8cb1",
   "metadata": {},
   "outputs": [],
   "source": [
    "def process_folders(main_path, textract_client, output_path):\n",
    "    all_dataframes = []\n",
    "    for folder_name in os.listdir(main_path):\n",
    "        folder_path = os.path.join(main_path, folder_name)\n",
    "        if os.path.isdir(folder_path):\n",
    "            df = process_pdf_folder(folder_path, textract_client, output_path)\n",
    "            if df is not None:\n",
    "                all_dataframes.append(df)\n",
    "\n",
    "    if all_dataframes:\n",
    "        combined_df = pd.concat(all_dataframes, ignore_index=True)\n",
    "        combined_parquet_file = os.path.join(output_path, 'combined_data.parquet')\n",
    "        combined_df.to_parquet(combined_parquet_file , index=False, engine='fastparquet')\n",
    "        combined_csv_file = os.path.join(output_path, 'combined_data.csv')\n",
    "        combined_df.to_csv(combined_csv_file, index=False)\n",
    "        print(f\"Datos guardados\")"
   ]
  },
  {
   "cell_type": "code",
   "execution_count": 14,
   "id": "8d8a0948",
   "metadata": {
    "collapsed": true,
    "jupyter": {
     "outputs_hidden": true
    },
    "tags": []
   },
   "outputs": [
    {
     "name": "stdout",
     "output_type": "stream",
     "text": [
      "Datos guardados en /home/ec2-user/SageMaker/genebanks/data/3_out_data/Recoleccion germoplasma-Peru-1977.parquet\n",
      "Datos guardados en /home/ec2-user/SageMaker/genebanks/data/3_out_data/Germplasm exploration-Brasil-1980.parquet\n",
      "Datos guardados en /home/ec2-user/SageMaker/genebanks/data/3_out_data/Informe Colecta Guatemala-1985.parquet\n",
      "Datos guardados en /home/ec2-user/SageMaker/genebanks/data/3_out_data/Informe de colecta-Mexico1987.parquet\n",
      "Datos guardados en /home/ec2-user/SageMaker/genebanks/data/3_out_data/Informe de colecta-Guatemala-1987.parquet\n",
      "Datos guardados en /home/ec2-user/SageMaker/genebanks/data/3_out_data/Informe colecta Colombia-Risaralda-Caldas-1987.parquet\n",
      "Datos guardados en /home/ec2-user/SageMaker/genebanks/data/3_out_data/Germplasm exploration-Malawi and Zambia-1980.parquet\n",
      "Datos guardados en /home/ec2-user/SageMaker/genebanks/data/3_out_data/Germplasm exploration Costa Rica-1987.parquet\n",
      "Datos guardados en /home/ec2-user/SageMaker/genebanks/data/3_out_data/Informe de colecta-Ecuador-1989.parquet\n",
      "Datos guardados en /home/ec2-user/SageMaker/genebanks/data/3_out_data/Informe Colecta Bolivia-1994.parquet\n",
      "Datos guardados en /home/ec2-user/SageMaker/genebanks/data/3_out_data/Informe Colecta Argentina-1986.parquet\n",
      "Datos guardados en /home/ec2-user/SageMaker/genebanks/data/3_out_data/Informe Colecta Peru-1987.parquet\n",
      "Datos guardados en /home/ec2-user/SageMaker/genebanks/data/3_out_data/Informe Colecta Bolivia-1988.parquet\n",
      "Datos guardados en /home/ec2-user/SageMaker/genebanks/data/3_out_data/Recoleccion germplasma-Ecuador-1979.parquet\n",
      "Datos guardados en /home/ec2-user/SageMaker/genebanks/data/3_out_data/Informe de Colecta Mexico 1993.parquet\n",
      "Datos guardados en /home/ec2-user/SageMaker/genebanks/data/3_out_data/Informe Bioprospeccion Germoplasma Phaseolus Costa Rica Diciembre 2012 REVISADO 15 enero 2013.docx1.parquet\n",
      "Datos guardados en /home/ec2-user/SageMaker/genebanks/data/3_out_data/Informe colecta Mexico-1986.parquet\n",
      "Datos guardados en /home/ec2-user/SageMaker/genebanks/data/3_out_data/Informe de colecta2-Mexico-1987.parquet\n",
      "Datos guardados en /home/ec2-user/SageMaker/genebanks/data/3_out_data/Germplasm exploration-Zambia-1982.parquet\n",
      "Datos guardados en /home/ec2-user/SageMaker/genebanks/data/3_out_data/Informe de colecta-Mexico1985.parquet\n",
      "Datos guardados en /home/ec2-user/SageMaker/genebanks/data/3_out_data/Informe de colecta-Peru1989.parquet\n",
      "Datos guardados en /home/ec2-user/SageMaker/genebanks/data/3_out_data/informe de colecta Risaralda-1989.parquet\n",
      "Datos guardados en /home/ec2-user/SageMaker/genebanks/data/3_out_data/Informe de colecta-Peru-Argentina1985.parquet\n",
      "Datos guardados en /home/ec2-user/SageMaker/genebanks/data/3_out_data/Informe de colecta Region Andina-Colombia1992.parquet\n",
      "Datos guardados en /home/ec2-user/SageMaker/genebanks/data/3_out_data/Informe Bioprospeccion Phaseolus El Salvador Diciembre 2012.parquet\n",
      "Datos guardados en /home/ec2-user/SageMaker/genebanks/data/3_out_data/Informe Colecta Peru-1988.parquet\n",
      "Datos guardados en /home/ec2-user/SageMaker/genebanks/data/3_out_data/Informe colecta Colombia-Cauca-1987.parquet\n",
      "Datos guardados en /home/ec2-user/SageMaker/genebanks/data/3_out_data/Recoleccion Germoplasma-Mexico-CIAT-INIA-1979.parquet\n",
      "Datos guardados en /home/ec2-user/SageMaker/genebanks/data/3_out_data/Informe colecta Caqueta-Colombia Feb 13-18_1989.parquet\n",
      "Datos guardados en /home/ec2-user/SageMaker/genebanks/data/3_out_data/Informe de colecta-Guatemala-1995.parquet\n",
      "Datos guardados en /home/ec2-user/SageMaker/genebanks/data/3_out_data/Informe de colecta Santa Marta y Cesar-Colombia1986.parquet\n",
      "Datos guardados en /home/ec2-user/SageMaker/genebanks/data/3_out_data/Germplasm exploration Ecuador-1990.parquet\n",
      "Datos guardados en /home/ec2-user/SageMaker/genebanks/data/3_out_data/Ecogeographic survey of the target species-Costa Rica-2004.parquet\n",
      "Datos guardados en /home/ec2-user/SageMaker/genebanks/data/3_out_data/Germplasm exploration-Zambia-1981.parquet\n",
      "Datos guardados en /home/ec2-user/SageMaker/genebanks/data/3_out_data/Germplasm exploration-Zimbabwe-1982.parquet\n",
      "Datos guardados en /home/ec2-user/SageMaker/genebanks/data/3_out_data/Germplasm collection-Colombia-1990.parquet\n",
      "Datos guardados en /home/ec2-user/SageMaker/genebanks/data/3_out_data/Germplasm exploration-Bhutan-1981.parquet\n",
      "Datos guardados en /home/ec2-user/SageMaker/genebanks/data/3_out_data/InformeViajeCosta RicaJanuary03.parquet\n",
      "Datos guardados en /home/ec2-user/SageMaker/genebanks/data/3_out_data/Informe de colecta Cundinamarca y Boyaca-Colombia1993.parquet\n",
      "Datos guardados en /home/ec2-user/SageMaker/genebanks/data/3_out_data/Informe de colecta-Peru-1986.parquet\n"
     ]
    },
    {
     "ename": "NameError",
     "evalue": "name 'combined_file' is not defined",
     "output_type": "error",
     "traceback": [
      "\u001b[0;31m---------------------------------------------------------------------------\u001b[0m",
      "\u001b[0;31mNameError\u001b[0m                                 Traceback (most recent call last)",
      "Cell \u001b[0;32mIn[14], line 8\u001b[0m\n\u001b[1;32m      5\u001b[0m \u001b[38;5;28;01mif\u001b[39;00m \u001b[38;5;129;01mnot\u001b[39;00m os\u001b[38;5;241m.\u001b[39mpath\u001b[38;5;241m.\u001b[39mexists(output_path):\n\u001b[1;32m      6\u001b[0m     os\u001b[38;5;241m.\u001b[39mmakedirs(output_path)\n\u001b[0;32m----> 8\u001b[0m \u001b[43mprocess_folders\u001b[49m\u001b[43m(\u001b[49m\u001b[43mmain_path\u001b[49m\u001b[43m,\u001b[49m\u001b[43m \u001b[49m\u001b[43mtextract_client\u001b[49m\u001b[43m,\u001b[49m\u001b[43m \u001b[49m\u001b[43moutput_path\u001b[49m\u001b[43m)\u001b[49m\n",
      "Cell \u001b[0;32mIn[13], line 16\u001b[0m, in \u001b[0;36mprocess_folders\u001b[0;34m(main_path, textract_client, output_path)\u001b[0m\n\u001b[1;32m     14\u001b[0m combined_csv_file \u001b[38;5;241m=\u001b[39m os\u001b[38;5;241m.\u001b[39mpath\u001b[38;5;241m.\u001b[39mjoin(output_path, \u001b[38;5;124m'\u001b[39m\u001b[38;5;124mcombined_data.csv\u001b[39m\u001b[38;5;124m'\u001b[39m)\n\u001b[1;32m     15\u001b[0m combined_df\u001b[38;5;241m.\u001b[39mto_csv(combined_csv_file, index\u001b[38;5;241m=\u001b[39m\u001b[38;5;28;01mFalse\u001b[39;00m)\n\u001b[0;32m---> 16\u001b[0m \u001b[38;5;28mprint\u001b[39m(\u001b[38;5;124mf\u001b[39m\u001b[38;5;124m\"\u001b[39m\u001b[38;5;124mDatos combinados guardados en \u001b[39m\u001b[38;5;132;01m{\u001b[39;00m\u001b[43mcombined_file\u001b[49m\u001b[38;5;132;01m}\u001b[39;00m\u001b[38;5;124m\"\u001b[39m)\n",
      "\u001b[0;31mNameError\u001b[0m: name 'combined_file' is not defined"
     ]
    }
   ],
   "source": [
    "# Proceso completo\n",
    "main_path = '/home/ec2-user/SageMaker/genebanks/data/2_images'\n",
    "output_path = '/home/ec2-user/SageMaker/genebanks/data/3_out_data'\n",
    "\n",
    "if not os.path.exists(output_path):\n",
    "    os.makedirs(output_path)\n",
    "\n",
    "process_folders(main_path, textract_client, output_path)"
   ]
  },
  {
   "cell_type": "code",
   "execution_count": null,
   "id": "7296159c",
   "metadata": {},
   "outputs": [],
   "source": []
  }
 ],
 "metadata": {
  "environment": {
   "kernel": "python3",
   "name": "workbench-notebooks.m118",
   "type": "gcloud",
   "uri": "us-docker.pkg.dev/deeplearning-platform-release/gcr.io/workbench-notebooks:m118"
  },
  "kernelspec": {
   "display_name": "Python 3 (ipykernel) (Local)",
   "language": "python",
   "name": "python3"
  },
  "language_info": {
   "codemirror_mode": {
    "name": "ipython",
    "version": 3
   },
   "file_extension": ".py",
   "mimetype": "text/x-python",
   "name": "python",
   "nbconvert_exporter": "python",
   "pygments_lexer": "ipython3",
   "version": "3.10.13"
  }
 },
 "nbformat": 4,
 "nbformat_minor": 5
}
