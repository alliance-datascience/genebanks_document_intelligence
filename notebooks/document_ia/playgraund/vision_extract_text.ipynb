{
 "cells": [
  {
   "cell_type": "code",
   "execution_count": 1,
   "id": "a6ac0ad0-bdc6-4258-9ee6-e2cb2b6d8b58",
   "metadata": {
    "tags": []
   },
   "outputs": [
    {
     "name": "stdout",
     "output_type": "stream",
     "text": [
      "\u001b[33mWARNING: Ignoring invalid distribution -oogle-api-core (/opt/conda/lib/python3.10/site-packages)\u001b[0m\n",
      "\u001b[33mWARNING: Ignoring invalid distribution -oogle-api-core (/opt/conda/lib/python3.10/site-packages)\u001b[0m\n",
      "Requirement already satisfied: PyMuPDF in /opt/conda/lib/python3.10/site-packages (1.24.12)\n",
      "\u001b[33mWARNING: Ignoring invalid distribution -oogle-api-core (/opt/conda/lib/python3.10/site-packages)\u001b[0m\n",
      "\u001b[33mWARNING: Ignoring invalid distribution -oogle-api-core (/opt/conda/lib/python3.10/site-packages)\u001b[0m\n",
      "\u001b[33mWARNING: Ignoring invalid distribution -oogle-api-core (/opt/conda/lib/python3.10/site-packages)\u001b[0m\n",
      "\u001b[33mWARNING: Ignoring invalid distribution -oogle-api-core (/opt/conda/lib/python3.10/site-packages)\u001b[0m\n",
      "Note: you may need to restart the kernel to use updated packages.\n"
     ]
    }
   ],
   "source": [
    "pip install PyMuPDF"
   ]
  },
  {
   "cell_type": "code",
   "execution_count": null,
   "id": "69497e79-465e-42c5-9386-f0cec18a30f5",
   "metadata": {},
   "outputs": [],
   "source": [
    "import os\n",
    "import fitz #PyMuPDF"
   ]
  },
  {
   "cell_type": "markdown",
   "id": "8373805f-b7a2-4bc7-91f5-b16ea07d227f",
   "metadata": {},
   "source": [
    "## Libraries"
   ]
  },
  {
   "cell_type": "code",
   "execution_count": 1,
   "id": "d800d2a0-717a-4cb2-a9ca-7b68dc555865",
   "metadata": {},
   "outputs": [],
   "source": [
    "import dask.dataframe as dd\n",
    "import glob\n",
    "import pandas as pd\n",
    "from google.api_core.client_options import ClientOptions\n",
    "from google.cloud import documentai\n",
    "import time\n",
    "from tqdm import tqdm\n",
    "import os"
   ]
  },
  {
   "cell_type": "markdown",
   "id": "ee1e6c22-ad5c-4767-ac36-463987657e36",
   "metadata": {
    "tags": []
   },
   "source": [
    "## OCR google"
   ]
  },
  {
   "cell_type": "code",
   "execution_count": 2,
   "id": "fca3ff4f-e41d-4259-9a1a-164459014f32",
   "metadata": {
    "tags": []
   },
   "outputs": [],
   "source": [
    "LOCATION = 'us'\n",
    "PROJECT_ID = 'poc-accionclimatica-agrilac'\n",
    "PROCESSOR_ID = '9cbdccf92c290be'\n",
    "FILE_PATH = '/home/jupyter/data/forrajes/*'\n",
    "MIME_TYPE = \"application/pdf\""
   ]
  },
  {
   "cell_type": "code",
   "execution_count": 3,
   "id": "3bc3ac26-13a1-4d01-983c-162e5e84c5fc",
   "metadata": {
    "tags": []
   },
   "outputs": [],
   "source": [
    "list_blobs = glob.glob(FILE_PATH)"
   ]
  },
  {
   "cell_type": "code",
   "execution_count": 4,
   "id": "5b5677fa-a13a-4fe7-9b8f-ed4f82b30b9f",
   "metadata": {
    "tags": []
   },
   "outputs": [],
   "source": [
    "files_df = pd.DataFrame(list_blobs, columns=['file_path'])"
   ]
  },
  {
   "cell_type": "code",
   "execution_count": 9,
   "id": "7068a121-ee97-43e3-bce3-1addc59161af",
   "metadata": {
    "tags": []
   },
   "outputs": [],
   "source": [
    "files_dd = dd.from_pandas(files_df,npartitions = 20) "
   ]
  },
  {
   "cell_type": "code",
   "execution_count": 14,
   "id": "d3f9988a-d305-486d-946b-59b5e2b22728",
   "metadata": {
    "tags": []
   },
   "outputs": [],
   "source": [
    "# The full resource name of the processor, e.g.:\n",
    "# projects/project-id/locations/location/processor/processor-id\n",
    "# You must create new processors in the Cloud Console first\n",
    "procesados = []\n",
    "con_errores = []\n",
    "def get_text_from_pdf(file_path:str):\n",
    "    try:\n",
    "        docai_client = documentai.DocumentProcessorServiceClient(\n",
    "        client_options=ClientOptions(api_endpoint=f\"{LOCATION}-documentai.googleapis.com\"))\n",
    "        RESOURCE_NAME = docai_client.processor_path(PROJECT_ID, LOCATION, PROCESSOR_ID)\n",
    "        # Read the file into memory\n",
    "        with open(file_path, \"rb\") as image:\n",
    "            image_content = image.read()\n",
    "        raw_document = documentai.RawDocument(content=image_content, mime_type=MIME_TYPE)\n",
    "        request = documentai.ProcessRequest(name=RESOURCE_NAME, raw_document=raw_document)\n",
    "        result = docai_client.process_document(request=request)\n",
    "        document_object = result.document\n",
    "        procesados.append(file_path)\n",
    "        return document_object.text\n",
    "    except:\n",
    "        con_errores.append(file_path)\n",
    "        return \"NA\""
   ]
  },
  {
   "cell_type": "code",
   "execution_count": 7,
   "id": "2117c200-42c3-4317-ae3b-d505a1a9ce02",
   "metadata": {
    "tags": []
   },
   "outputs": [
    {
     "data": {
      "text/html": [
       "<div>\n",
       "<style scoped>\n",
       "    .dataframe tbody tr th:only-of-type {\n",
       "        vertical-align: middle;\n",
       "    }\n",
       "\n",
       "    .dataframe tbody tr th {\n",
       "        vertical-align: top;\n",
       "    }\n",
       "\n",
       "    .dataframe thead th {\n",
       "        text-align: right;\n",
       "    }\n",
       "</style>\n",
       "<table border=\"1\" class=\"dataframe\">\n",
       "  <thead>\n",
       "    <tr style=\"text-align: right;\">\n",
       "      <th></th>\n",
       "      <th>file_path</th>\n",
       "    </tr>\n",
       "  </thead>\n",
       "  <tbody>\n",
       "    <tr>\n",
       "      <th>0</th>\n",
       "      <td>/home/jupyter/data/forrajes/7257.pdf</td>\n",
       "    </tr>\n",
       "  </tbody>\n",
       "</table>\n",
       "</div>"
      ],
      "text/plain": [
       "                              file_path\n",
       "0  /home/jupyter/data/forrajes/7257.pdf"
      ]
     },
     "execution_count": 7,
     "metadata": {},
     "output_type": "execute_result"
    }
   ],
   "source": [
    "files_df.head(1)"
   ]
  },
  {
   "cell_type": "code",
   "execution_count": 8,
   "id": "127fd80e-e2c8-4fee-b1ff-1da3a8e3f504",
   "metadata": {
    "tags": []
   },
   "outputs": [],
   "source": [
    "# New function whitout dask\n",
    "\n",
    "def process_pdf_folder(df: pd.DataFrame):\n",
    "    file_paths = df['file_path'].tolist()\n",
    "    responses = []\n",
    "    for file in tqdm(file_paths, desc=\"Procesando PDFs\", unit=\"archivo\"):\n",
    "        try:\n",
    "            response_text = get_text_from_pdf(file)\n",
    "        except Exception as e:\n",
    "            print(f\"Error procesando el archivo {file_path}: {e}\")\n",
    "            response_text = None\n",
    "        responses.append(response_text)\n",
    "        #time.sleep(0.5)\n",
    "    df['response'] = responses\n",
    "    df['id'] = df['file_path'].apply(lambda x: (x.split('/')[-1]).split('.')[0])\n",
    "    return df"
   ]
  },
  {
   "cell_type": "code",
   "execution_count": 9,
   "id": "1c9e15a9-53b0-4bb9-b9b1-5d123d36155f",
   "metadata": {
    "tags": []
   },
   "outputs": [
    {
     "name": "stderr",
     "output_type": "stream",
     "text": [
      "Procesando PDFs:   1%|          | 77/6513 [02:32<3:32:46,  1.98s/archivo]\n",
      "\n",
      "KeyboardInterrupt\n",
      "\n"
     ]
    }
   ],
   "source": [
    "df_results = process_pdf_folder(files_df)"
   ]
  },
  {
   "cell_type": "markdown",
   "id": "0f74cd17-02ee-43e4-b214-4ad0edb574f6",
   "metadata": {},
   "source": [
    "## Upload files to storage"
   ]
  },
  {
   "cell_type": "code",
   "execution_count": 8,
   "id": "9f220e1a-2804-4243-be03-86b37f777248",
   "metadata": {
    "tags": []
   },
   "outputs": [],
   "source": [
    "from google.cloud import storage\n",
    "\n",
    "storage_client = storage.Client()"
   ]
  },
  {
   "cell_type": "code",
   "execution_count": null,
   "id": "885f145d-ec4a-42d9-b2f3-88b333d985f5",
   "metadata": {
    "tags": []
   },
   "outputs": [],
   "source": [
    "def upload_files_to_gcs(bucket_name: str, source_folder: str, destination_folder: str):\n",
    "    \"\"\"Sube archivos desde una carpeta local a un bucket de GCS.\"\"\"\n",
    "    bucket = storage_client.bucket(bucket_name)\n",
    "    file_list = [f for f in os.listdir(source_folder) if f.endswith('.pdf')]\n",
    "    \n",
    "    # Subir cada archivo al bucket de GCS\n",
    "    for file_name in tqdm(file_list, desc=\"Subiendo archivos\", unit=\"archivo\"):\n",
    "        source_file_path = os.path.join(source_folder, file_name)\n",
    "        destination_blob_name = f\"{destination_folder}/{file_name}\"\n",
    "        \n",
    "        # Crear un blob en GCS y subir el archivo\n",
    "        blob = bucket.blob(destination_blob_name)\n",
    "        blob.upload_from_filename(source_file_path)\n",
    "        \n",
    "        print(f\"Archivo {file_name} subido a {destination_blob_name} en el bucket {bucket_name}.\")"
   ]
  },
  {
   "cell_type": "code",
   "execution_count": null,
   "id": "8d32c12c-b2f7-4d7c-b97c-1b94c6c7f2d9",
   "metadata": {
    "tags": []
   },
   "outputs": [],
   "source": [
    "BUCKET_NAME = \"genebanks\"\n",
    "SOURCE_FOLDER = \"/home/jupyter/data/forrajes\"\n",
    "DESTINATION_FOLDER = \"zone=landing/forages-ciat/curacion-forrajes\"\n",
    "\n",
    "#upload_files_to_gcs(BUCKET_NAME, SOURCE_FOLDER, DESTINATION_FOLDER)"
   ]
  },
  {
   "cell_type": "markdown",
   "id": "7696661e-347f-46fd-a5a0-6d5a9e820305",
   "metadata": {},
   "source": [
    "## OCR from Storage"
   ]
  },
  {
   "cell_type": "code",
   "execution_count": null,
   "id": "699b63df-ec04-45fb-b54a-6d63e18c31d0",
   "metadata": {
    "tags": []
   },
   "outputs": [],
   "source": [
    "files_df.head()"
   ]
  },
  {
   "cell_type": "code",
   "execution_count": 26,
   "id": "4a6fba4e-cc35-49ed-9c55-9f2d9a5f1623",
   "metadata": {
    "tags": []
   },
   "outputs": [],
   "source": [
    "files_df['pdf_name'] = files_df['file_path'].apply(lambda x: (x.split('/')[-1]))"
   ]
  },
  {
   "cell_type": "code",
   "execution_count": 47,
   "id": "e4554756-114d-4279-b0c8-c5cb6767992d",
   "metadata": {
    "tags": []
   },
   "outputs": [],
   "source": [
    "def get_text_from_gcs(gcs_uri: str):\n",
    "    \"\"\"Procesa el archivo PDF en GCS utilizando su URI y devuelve el texto extraído.\"\"\"\n",
    "\n",
    "    # Initialize the DocumentProcessorServiceClient\n",
    "    client = documentai.DocumentProcessorServiceClient(\n",
    "        client_options=ClientOptions(api_endpoint=f\"{LOCATION}-documentai.googleapis.com\")\n",
    "    )\n",
    "\n",
    "    # Construct the resource name\n",
    "    resource_name = client.processor_path(PROJECT_ID, LOCATION, PROCESSOR_ID)\n",
    "\n",
    "    # Specify GCS source using GcsSource\n",
    "    gcs_source = documentai.GcsSource(uri=gcs_uri)\n",
    "\n",
    "    # Create the input configuration for GCS\n",
    "    input_config = documentai.DocumentInputConfig(gcs_source=gcs_source, mime_type=\"application/pdf\")\n",
    "\n",
    "    # Create the request with the input configuration\n",
    "    request = documentai.ProcessRequest(name=resource_name, input_config=input_config)\n",
    "\n",
    "    # Process the document with Document AI\n",
    "    result = client.process_document(request=request)\n",
    "\n",
    "    # Extract the text\n",
    "    document = result.document\n",
    "    return document.text"
   ]
  },
  {
   "cell_type": "code",
   "execution_count": 48,
   "id": "4554c047-3953-4dcd-bda1-ac60e4f4bf09",
   "metadata": {
    "tags": []
   },
   "outputs": [],
   "source": [
    "def process_pdf_folder(df: pd.DataFrame, bucket_name: str):\n",
    "    \"\"\"Procesa archivos PDF almacenados en GCS y aplica OCR directamente desde el bucket.\"\"\"\n",
    "    df['pdf_name'] = df['file_path'].apply(lambda x: (x.split('/')[-1]))\n",
    "    file_paths = df['pdf_name'].tolist()\n",
    "    responses = []\n",
    "    error_files = []\n",
    "\n",
    "    for file in tqdm(file_paths, desc=\"Procesando PDFs\", unit=\"archivo\"):\n",
    "        try:\n",
    "            gcs_uri = f\"gs://{bucket_name}/{file}\"\n",
    "            response_text = get_text_from_gcs(gcs_uri)\n",
    "        except Exception as e:\n",
    "            print(f\"Error procesando el archivo {file}: {e}\")\n",
    "            response_text = None\n",
    "            error_files.append(file)\n",
    "        responses.append(response_text)\n",
    "\n",
    "        time.sleep(0.5)\n",
    "\n",
    "    df['response'] = responses\n",
    "    df['id'] = df['pdf_name'].apply(lambda x: (x.split('.')[0]))\n",
    "\n",
    "    # Mostrar archivos que generaron error\n",
    "    if error_files:\n",
    "        print(f\"Archivos que generaron error: {len(error_files)}\")\n",
    "        for err_file in error_files:\n",
    "            print(err_file)\n",
    "    \n",
    "    return df, error_files"
   ]
  },
  {
   "cell_type": "code",
   "execution_count": 49,
   "id": "963959b5-f28d-4888-b61f-caeafd3acce3",
   "metadata": {
    "tags": []
   },
   "outputs": [
    {
     "name": "stderr",
     "output_type": "stream",
     "text": [
      "Procesando PDFs:   0%|          | 0/6513 [00:00<?, ?archivo/s]"
     ]
    },
    {
     "name": "stdout",
     "output_type": "stream",
     "text": [
      "Error procesando el archivo 7257.pdf: module 'google.cloud.documentai' has no attribute 'GcsSource'\n"
     ]
    },
    {
     "name": "stderr",
     "output_type": "stream",
     "text": [
      "Procesando PDFs:   0%|          | 1/6513 [00:00<55:18,  1.96archivo/s]"
     ]
    },
    {
     "name": "stdout",
     "output_type": "stream",
     "text": [
      "Error procesando el archivo 25036.pdf: module 'google.cloud.documentai' has no attribute 'GcsSource'\n"
     ]
    },
    {
     "name": "stderr",
     "output_type": "stream",
     "text": [
      "Procesando PDFs:   0%|          | 2/6513 [00:01<55:14,  1.96archivo/s]"
     ]
    },
    {
     "name": "stdout",
     "output_type": "stream",
     "text": [
      "Error procesando el archivo 10352.pdf: module 'google.cloud.documentai' has no attribute 'GcsSource'\n"
     ]
    },
    {
     "name": "stderr",
     "output_type": "stream",
     "text": [
      "Procesando PDFs:   0%|          | 3/6513 [00:01<55:15,  1.96archivo/s]"
     ]
    },
    {
     "name": "stdout",
     "output_type": "stream",
     "text": [
      "Error procesando el archivo 18977.pdf: module 'google.cloud.documentai' has no attribute 'GcsSource'\n"
     ]
    },
    {
     "name": "stderr",
     "output_type": "stream",
     "text": [
      "Procesando PDFs:   0%|          | 4/6513 [00:02<55:16,  1.96archivo/s]"
     ]
    },
    {
     "name": "stdout",
     "output_type": "stream",
     "text": [
      "Error procesando el archivo 19302.pdf: module 'google.cloud.documentai' has no attribute 'GcsSource'\n"
     ]
    },
    {
     "name": "stderr",
     "output_type": "stream",
     "text": [
      "Procesando PDFs:   0%|          | 5/6513 [00:02<59:42,  1.82archivo/s]"
     ]
    },
    {
     "name": "stdout",
     "output_type": "stream",
     "text": [
      "Error procesando el archivo 5579.pdf: module 'google.cloud.documentai' has no attribute 'GcsSource'\n"
     ]
    },
    {
     "name": "stderr",
     "output_type": "stream",
     "text": [
      "\n"
     ]
    },
    {
     "ename": "KeyboardInterrupt",
     "evalue": "",
     "output_type": "error",
     "traceback": [
      "\u001b[0;31m---------------------------------------------------------------------------\u001b[0m",
      "\u001b[0;31mKeyboardInterrupt\u001b[0m                         Traceback (most recent call last)",
      "Cell \u001b[0;32mIn[49], line 3\u001b[0m\n\u001b[1;32m      1\u001b[0m bucket_name \u001b[38;5;241m=\u001b[39m \u001b[38;5;124m'\u001b[39m\u001b[38;5;124mgenebanks/zone=landing/forages-ciat/curacion-forrajes\u001b[39m\u001b[38;5;124m'\u001b[39m\n\u001b[0;32m----> 3\u001b[0m df_results, errors \u001b[38;5;241m=\u001b[39m \u001b[43mprocess_pdf_folder\u001b[49m\u001b[43m(\u001b[49m\u001b[43mfiles_df\u001b[49m\u001b[43m,\u001b[49m\u001b[43m \u001b[49m\u001b[43mbucket_name\u001b[49m\u001b[43m)\u001b[49m\n",
      "Cell \u001b[0;32mIn[48], line 18\u001b[0m, in \u001b[0;36mprocess_pdf_folder\u001b[0;34m(df, bucket_name)\u001b[0m\n\u001b[1;32m     15\u001b[0m         error_files\u001b[38;5;241m.\u001b[39mappend(file)\n\u001b[1;32m     16\u001b[0m     responses\u001b[38;5;241m.\u001b[39mappend(response_text)\n\u001b[0;32m---> 18\u001b[0m     \u001b[43mtime\u001b[49m\u001b[38;5;241;43m.\u001b[39;49m\u001b[43msleep\u001b[49m\u001b[43m(\u001b[49m\u001b[38;5;241;43m0.5\u001b[39;49m\u001b[43m)\u001b[49m\n\u001b[1;32m     20\u001b[0m df[\u001b[38;5;124m'\u001b[39m\u001b[38;5;124mresponse\u001b[39m\u001b[38;5;124m'\u001b[39m] \u001b[38;5;241m=\u001b[39m responses\n\u001b[1;32m     21\u001b[0m df[\u001b[38;5;124m'\u001b[39m\u001b[38;5;124mid\u001b[39m\u001b[38;5;124m'\u001b[39m] \u001b[38;5;241m=\u001b[39m df[\u001b[38;5;124m'\u001b[39m\u001b[38;5;124mpdf_name\u001b[39m\u001b[38;5;124m'\u001b[39m]\u001b[38;5;241m.\u001b[39mapply(\u001b[38;5;28;01mlambda\u001b[39;00m x: (x\u001b[38;5;241m.\u001b[39msplit(\u001b[38;5;124m'\u001b[39m\u001b[38;5;124m.\u001b[39m\u001b[38;5;124m'\u001b[39m)[\u001b[38;5;241m0\u001b[39m]))\n",
      "\u001b[0;31mKeyboardInterrupt\u001b[0m: "
     ]
    }
   ],
   "source": [
    "bucket_name = 'genebanks/zone=landing/forages-ciat/curacion-forrajes'\n",
    "\n",
    "df_results, errors = process_pdf_folder(files_df, bucket_name)"
   ]
  },
  {
   "cell_type": "code",
   "execution_count": 23,
   "id": "4318a30f-e12f-4f96-9488-abd6fbbd3e5a",
   "metadata": {
    "tags": []
   },
   "outputs": [
    {
     "ename": "NameError",
     "evalue": "name 'df_results' is not defined",
     "output_type": "error",
     "traceback": [
      "\u001b[0;31m---------------------------------------------------------------------------\u001b[0m",
      "\u001b[0;31mNameError\u001b[0m                                 Traceback (most recent call last)",
      "Cell \u001b[0;32mIn[23], line 1\u001b[0m\n\u001b[0;32m----> 1\u001b[0m \u001b[43mdf_results\u001b[49m\u001b[38;5;241m.\u001b[39mhead(\u001b[38;5;241m1\u001b[39m)\n",
      "\u001b[0;31mNameError\u001b[0m: name 'df_results' is not defined"
     ]
    }
   ],
   "source": [
    "df_results.head(1)"
   ]
  },
  {
   "cell_type": "code",
   "execution_count": null,
   "id": "2db40c90-2f05-43eb-a939-dba54a5f0dcb",
   "metadata": {},
   "outputs": [],
   "source": [
    "# CSV\n",
    "files_df.to_csv(process_pdf_folder, index=False, encoding='utf-8')"
   ]
  },
  {
   "cell_type": "markdown",
   "id": "1109c783-6c8a-44d2-869d-779217de8b70",
   "metadata": {},
   "source": [
    "## Dask"
   ]
  },
  {
   "cell_type": "code",
   "execution_count": 15,
   "id": "f3dff40e-60c5-43b8-bb4b-9115bc69ca11",
   "metadata": {
    "tags": []
   },
   "outputs": [
    {
     "name": "stdout",
     "output_type": "stream",
     "text": [
      "[########################################] | 100% Completed | 65m 21s\n"
     ]
    }
   ],
   "source": [
    "import dask.array as da\n",
    "from dask.diagnostics import ProgressBar\n",
    "_col = {'response': object, 'name': object}\n",
    "with ProgressBar():\n",
    "    files_dd['response'] = files_dd.map_partitions(\n",
    "        lambda df: df['file_path'].apply(lambda x: get_text_from_pdf(x)),\n",
    "        meta=_col).compute(scheduler='processes')"
   ]
  },
  {
   "cell_type": "code",
   "execution_count": 16,
   "id": "357d45c4-1f55-4261-bfd9-0ea9be04b21c",
   "metadata": {
    "tags": []
   },
   "outputs": [
    {
     "name": "stdout",
     "output_type": "stream",
     "text": [
      "finalizo\n"
     ]
    }
   ],
   "source": [
    "print(\"finalizo\")"
   ]
  },
  {
   "cell_type": "code",
   "execution_count": 17,
   "id": "476fb349-1991-4875-b8f2-93e2a6802d4b",
   "metadata": {
    "tags": []
   },
   "outputs": [],
   "source": [
    "files_df = files_dd.compute()\n",
    "files_df['id'] = files_df.file_path.apply(lambda x: (x.split('/')[-1]).split('.')[0])"
   ]
  },
  {
   "cell_type": "code",
   "execution_count": 18,
   "id": "daf1ab97-aab7-4f3f-8160-cfa2cb5b9ba6",
   "metadata": {
    "tags": []
   },
   "outputs": [
    {
     "data": {
      "text/html": [
       "<div>\n",
       "<style scoped>\n",
       "    .dataframe tbody tr th:only-of-type {\n",
       "        vertical-align: middle;\n",
       "    }\n",
       "\n",
       "    .dataframe tbody tr th {\n",
       "        vertical-align: top;\n",
       "    }\n",
       "\n",
       "    .dataframe thead th {\n",
       "        text-align: right;\n",
       "    }\n",
       "</style>\n",
       "<table border=\"1\" class=\"dataframe\">\n",
       "  <thead>\n",
       "    <tr style=\"text-align: right;\">\n",
       "      <th></th>\n",
       "      <th>file_path</th>\n",
       "      <th>response</th>\n",
       "      <th>id</th>\n",
       "    </tr>\n",
       "  </thead>\n",
       "  <tbody>\n",
       "    <tr>\n",
       "      <th>0</th>\n",
       "      <td>/home/jupyter/data/forrajes/7257.pdf</td>\n",
       "      <td>CAT\n",
       "Especie:\n",
       "Programa de Pastos Tropicales\n",
       "TAR...</td>\n",
       "      <td>7257</td>\n",
       "    </tr>\n",
       "    <tr>\n",
       "      <th>1</th>\n",
       "      <td>/home/jupyter/data/forrajes/25036.pdf</td>\n",
       "      <td>CAL\n",
       "Especie:\n",
       "Programa de Pastos Tropicales\n",
       "TAR...</td>\n",
       "      <td>25036</td>\n",
       "    </tr>\n",
       "    <tr>\n",
       "      <th>2</th>\n",
       "      <td>/home/jupyter/data/forrajes/10352.pdf</td>\n",
       "      <td>10352\n",
       "CIAT No.\n",
       "5\n",
       "B\n",
       "Tipo de planta:\n",
       "B\n",
       "1 - Postr...</td>\n",
       "      <td>10352</td>\n",
       "    </tr>\n",
       "    <tr>\n",
       "      <th>3</th>\n",
       "      <td>/home/jupyter/data/forrajes/18977.pdf</td>\n",
       "      <td>CC LAT\n",
       "Especie:\n",
       "1. Colector(es):\n",
       "2. Donante\n",
       "Pr...</td>\n",
       "      <td>18977</td>\n",
       "    </tr>\n",
       "    <tr>\n",
       "      <th>4</th>\n",
       "      <td>/home/jupyter/data/forrajes/19302.pdf</td>\n",
       "      <td>CMAT\n",
       "Programa de Pastos Tropicales\n",
       "TARJETA DE ...</td>\n",
       "      <td>19302</td>\n",
       "    </tr>\n",
       "    <tr>\n",
       "      <th>...</th>\n",
       "      <td>...</td>\n",
       "      <td>...</td>\n",
       "      <td>...</td>\n",
       "    </tr>\n",
       "    <tr>\n",
       "      <th>6508</th>\n",
       "      <td>/home/jupyter/data/forrajes/11525.pdf</td>\n",
       "      <td>11525\n",
       "CIAT No.\n",
       "Б\n",
       "6\n",
       "CMATT\n",
       "Programa de Pastos Tr...</td>\n",
       "      <td>11525</td>\n",
       "    </tr>\n",
       "    <tr>\n",
       "      <th>6509</th>\n",
       "      <td>/home/jupyter/data/forrajes/25048.pdf</td>\n",
       "      <td>CCMAL\n",
       "Especie:\n",
       "Programa de Pastos Tropicales\n",
       "T...</td>\n",
       "      <td>25048</td>\n",
       "    </tr>\n",
       "    <tr>\n",
       "      <th>6510</th>\n",
       "      <td>/home/jupyter/data/forrajes/15450.pdf</td>\n",
       "      <td>CMATT\n",
       "Programa de Pastos Tropicales\n",
       "TARJETA DE...</td>\n",
       "      <td>15450</td>\n",
       "    </tr>\n",
       "    <tr>\n",
       "      <th>6511</th>\n",
       "      <td>/home/jupyter/data/forrajes/18990.pdf</td>\n",
       "      <td>CCMAT\n",
       "Especie:\n",
       "Programa de Pastos Tropicales\n",
       "T...</td>\n",
       "      <td>18990</td>\n",
       "    </tr>\n",
       "    <tr>\n",
       "      <th>6512</th>\n",
       "      <td>/home/jupyter/data/forrajes/20639.pdf</td>\n",
       "      <td>2- Erecto\n",
       "5 Postrado estolonifero\n",
       "3- Semierect...</td>\n",
       "      <td>20639</td>\n",
       "    </tr>\n",
       "  </tbody>\n",
       "</table>\n",
       "<p>6513 rows × 3 columns</p>\n",
       "</div>"
      ],
      "text/plain": [
       "                                  file_path  \\\n",
       "0      /home/jupyter/data/forrajes/7257.pdf   \n",
       "1     /home/jupyter/data/forrajes/25036.pdf   \n",
       "2     /home/jupyter/data/forrajes/10352.pdf   \n",
       "3     /home/jupyter/data/forrajes/18977.pdf   \n",
       "4     /home/jupyter/data/forrajes/19302.pdf   \n",
       "...                                     ...   \n",
       "6508  /home/jupyter/data/forrajes/11525.pdf   \n",
       "6509  /home/jupyter/data/forrajes/25048.pdf   \n",
       "6510  /home/jupyter/data/forrajes/15450.pdf   \n",
       "6511  /home/jupyter/data/forrajes/18990.pdf   \n",
       "6512  /home/jupyter/data/forrajes/20639.pdf   \n",
       "\n",
       "                                               response     id  \n",
       "0     CAT\n",
       "Especie:\n",
       "Programa de Pastos Tropicales\n",
       "TAR...   7257  \n",
       "1     CAL\n",
       "Especie:\n",
       "Programa de Pastos Tropicales\n",
       "TAR...  25036  \n",
       "2     10352\n",
       "CIAT No.\n",
       "5\n",
       "B\n",
       "Tipo de planta:\n",
       "B\n",
       "1 - Postr...  10352  \n",
       "3     CC LAT\n",
       "Especie:\n",
       "1. Colector(es):\n",
       "2. Donante\n",
       "Pr...  18977  \n",
       "4     CMAT\n",
       "Programa de Pastos Tropicales\n",
       "TARJETA DE ...  19302  \n",
       "...                                                 ...    ...  \n",
       "6508  11525\n",
       "CIAT No.\n",
       "Б\n",
       "6\n",
       "CMATT\n",
       "Programa de Pastos Tr...  11525  \n",
       "6509  CCMAL\n",
       "Especie:\n",
       "Programa de Pastos Tropicales\n",
       "T...  25048  \n",
       "6510  CMATT\n",
       "Programa de Pastos Tropicales\n",
       "TARJETA DE...  15450  \n",
       "6511  CCMAT\n",
       "Especie:\n",
       "Programa de Pastos Tropicales\n",
       "T...  18990  \n",
       "6512  2- Erecto\n",
       "5 Postrado estolonifero\n",
       "3- Semierect...  20639  \n",
       "\n",
       "[6513 rows x 3 columns]"
      ]
     },
     "execution_count": 18,
     "metadata": {},
     "output_type": "execute_result"
    }
   ],
   "source": [
    "files_df"
   ]
  },
  {
   "cell_type": "code",
   "execution_count": 19,
   "id": "621c51e0-d721-48b3-a2d4-51b682481d54",
   "metadata": {
    "tags": []
   },
   "outputs": [
    {
     "data": {
      "text/html": [
       "<div>\n",
       "<style scoped>\n",
       "    .dataframe tbody tr th:only-of-type {\n",
       "        vertical-align: middle;\n",
       "    }\n",
       "\n",
       "    .dataframe tbody tr th {\n",
       "        vertical-align: top;\n",
       "    }\n",
       "\n",
       "    .dataframe thead th {\n",
       "        text-align: right;\n",
       "    }\n",
       "</style>\n",
       "<table border=\"1\" class=\"dataframe\">\n",
       "  <thead>\n",
       "    <tr style=\"text-align: right;\">\n",
       "      <th></th>\n",
       "      <th>file_path</th>\n",
       "      <th>id</th>\n",
       "    </tr>\n",
       "  </thead>\n",
       "  <tbody>\n",
       "    <tr>\n",
       "      <th>0</th>\n",
       "      <td>/home/jupyter/data/forrajes/7257.pdf</td>\n",
       "      <td>7257</td>\n",
       "    </tr>\n",
       "    <tr>\n",
       "      <th>1</th>\n",
       "      <td>/home/jupyter/data/forrajes/25036.pdf</td>\n",
       "      <td>25036</td>\n",
       "    </tr>\n",
       "    <tr>\n",
       "      <th>2</th>\n",
       "      <td>/home/jupyter/data/forrajes/10352.pdf</td>\n",
       "      <td>10352</td>\n",
       "    </tr>\n",
       "    <tr>\n",
       "      <th>3</th>\n",
       "      <td>/home/jupyter/data/forrajes/18977.pdf</td>\n",
       "      <td>18977</td>\n",
       "    </tr>\n",
       "    <tr>\n",
       "      <th>4</th>\n",
       "      <td>/home/jupyter/data/forrajes/19302.pdf</td>\n",
       "      <td>19302</td>\n",
       "    </tr>\n",
       "    <tr>\n",
       "      <th>...</th>\n",
       "      <td>...</td>\n",
       "      <td>...</td>\n",
       "    </tr>\n",
       "    <tr>\n",
       "      <th>6508</th>\n",
       "      <td>/home/jupyter/data/forrajes/11525.pdf</td>\n",
       "      <td>11525</td>\n",
       "    </tr>\n",
       "    <tr>\n",
       "      <th>6509</th>\n",
       "      <td>/home/jupyter/data/forrajes/25048.pdf</td>\n",
       "      <td>25048</td>\n",
       "    </tr>\n",
       "    <tr>\n",
       "      <th>6510</th>\n",
       "      <td>/home/jupyter/data/forrajes/15450.pdf</td>\n",
       "      <td>15450</td>\n",
       "    </tr>\n",
       "    <tr>\n",
       "      <th>6511</th>\n",
       "      <td>/home/jupyter/data/forrajes/18990.pdf</td>\n",
       "      <td>18990</td>\n",
       "    </tr>\n",
       "    <tr>\n",
       "      <th>6512</th>\n",
       "      <td>/home/jupyter/data/forrajes/20639.pdf</td>\n",
       "      <td>20639</td>\n",
       "    </tr>\n",
       "  </tbody>\n",
       "</table>\n",
       "<p>6513 rows × 2 columns</p>\n",
       "</div>"
      ],
      "text/plain": [
       "                                  file_path     id\n",
       "0      /home/jupyter/data/forrajes/7257.pdf   7257\n",
       "1     /home/jupyter/data/forrajes/25036.pdf  25036\n",
       "2     /home/jupyter/data/forrajes/10352.pdf  10352\n",
       "3     /home/jupyter/data/forrajes/18977.pdf  18977\n",
       "4     /home/jupyter/data/forrajes/19302.pdf  19302\n",
       "...                                     ...    ...\n",
       "6508  /home/jupyter/data/forrajes/11525.pdf  11525\n",
       "6509  /home/jupyter/data/forrajes/25048.pdf  25048\n",
       "6510  /home/jupyter/data/forrajes/15450.pdf  15450\n",
       "6511  /home/jupyter/data/forrajes/18990.pdf  18990\n",
       "6512  /home/jupyter/data/forrajes/20639.pdf  20639\n",
       "\n",
       "[6513 rows x 2 columns]"
      ]
     },
     "execution_count": 19,
     "metadata": {},
     "output_type": "execute_result"
    }
   ],
   "source": [
    "files_df"
   ]
  },
  {
   "cell_type": "code",
   "execution_count": null,
   "id": "f93dbfd2-c22b-4529-be34-f5a0d2a845db",
   "metadata": {},
   "outputs": [],
   "source": [
    "# Parquet\n",
    "files_df.to_parquet(\"/home/jupyter/data/processed_pdfs.parquet\", engine='pyarrow')"
   ]
  },
  {
   "cell_type": "code",
   "execution_count": null,
   "id": "4870ed45-e455-40a8-85a1-27548a3e3901",
   "metadata": {},
   "outputs": [],
   "source": [
    "# CSV\n",
    "files_df.to_csv(\"/home/jupyter/data/processed_pdfs.csv\", index=False, encoding='utf-8')"
   ]
  },
  {
   "cell_type": "markdown",
   "id": "86c8ede2-3eb5-4d38-b7d5-5984356c54e9",
   "metadata": {},
   "source": [
    "## Manual test"
   ]
  },
  {
   "cell_type": "code",
   "execution_count": null,
   "id": "10c8aea9-b6b2-48f3-bd9f-e0e56f1dba72",
   "metadata": {},
   "outputs": [],
   "source": [
    "RESOURCE_NAME = docai_client.processor_path(PROJECT_ID, LOCATION, PROCESSOR_ID)"
   ]
  },
  {
   "cell_type": "code",
   "execution_count": null,
   "id": "e49d121b-f772-4915-a944-a823af6cdc05",
   "metadata": {
    "tags": []
   },
   "outputs": [],
   "source": [
    "# Read the file into memory\n",
    "with open(FILE_PATH, \"rb\") as image:\n",
    "    image_content = image.read()"
   ]
  },
  {
   "cell_type": "code",
   "execution_count": null,
   "id": "a76150ed-6d16-40ae-9f2d-93aa840f78ec",
   "metadata": {
    "tags": []
   },
   "outputs": [],
   "source": [
    "# Load Binary Data into Document AI RawDocument Object\n",
    "raw_document = documentai.RawDocument(content=image_content, mime_type=MIME_TYPE)"
   ]
  },
  {
   "cell_type": "code",
   "execution_count": null,
   "id": "c751542b-0418-401e-b04e-3fd089813f17",
   "metadata": {
    "tags": []
   },
   "outputs": [],
   "source": [
    "# Configure the process request\n",
    "request = documentai.ProcessRequest(name=RESOURCE_NAME, raw_document=raw_document)"
   ]
  },
  {
   "cell_type": "code",
   "execution_count": null,
   "id": "7a537a9f-95dd-4cc9-a6d8-8dd6c4a259cd",
   "metadata": {
    "tags": []
   },
   "outputs": [],
   "source": [
    "# Use the Document AI client to process the sample form\n",
    "result = docai_client.process_document(request=request)"
   ]
  },
  {
   "cell_type": "code",
   "execution_count": null,
   "id": "e4d157bf-008d-4e13-9465-58a6fed688a4",
   "metadata": {
    "tags": []
   },
   "outputs": [],
   "source": [
    "document_object = result.document\n",
    "print(\"Document processing complete.\")\n",
    "print(f\"Text: {document_object.text}\")"
   ]
  },
  {
   "cell_type": "code",
   "execution_count": null,
   "id": "3ba66a91-c843-4297-a66f-42dcd4ef71b7",
   "metadata": {},
   "outputs": [],
   "source": []
  },
  {
   "cell_type": "code",
   "execution_count": null,
   "id": "4010e64b-11aa-48ab-b23e-2d24835f9734",
   "metadata": {},
   "outputs": [],
   "source": []
  },
  {
   "cell_type": "code",
   "execution_count": null,
   "id": "5bc01487-ed70-4f67-a64b-7424d969b662",
   "metadata": {},
   "outputs": [],
   "source": []
  },
  {
   "cell_type": "code",
   "execution_count": null,
   "id": "36728563-8b14-40a5-b5cb-29331e3397e8",
   "metadata": {},
   "outputs": [],
   "source": []
  },
  {
   "cell_type": "markdown",
   "id": "dd33d7e0-d511-46af-b4b1-5ba67c31e421",
   "metadata": {
    "tags": []
   },
   "source": [
    "## Convert pdf pages to images"
   ]
  },
  {
   "cell_type": "code",
   "execution_count": null,
   "id": "35f27809-b204-4326-937b-e3a6b5d13b40",
   "metadata": {
    "tags": []
   },
   "outputs": [],
   "source": [
    "# Está función lee un archivo en pdf y guarda cada pagina del pdf como una imagen png en el folder de salida\n",
    "def process_pdf(pdf_path, output_folder):\n",
    "    filename = os.path.splitext(os.path.basename(pdf_path))[0]\n",
    "    folder_path = os.path.join(output_folder, filename)\n",
    "    os.makedirs(folder_path, exist_ok=True)\n",
    "    \n",
    "    with fitz.open(pdf_path) as doc:\n",
    "        for page_number, page in enumerate(doc, start=1):\n",
    "            image_path = os.path.join(folder_path, f\"page_{page_number}.png\")\n",
    "            page.get_pixmap().save(image_path)\n",
    "            print(f\"Guardada la página {page_number} del archivo {pdf_path} como {image_path}\")"
   ]
  },
  {
   "cell_type": "code",
   "execution_count": null,
   "id": "34cda22a-2577-4e1f-91c1-cb3d00ce91cb",
   "metadata": {
    "tags": []
   },
   "outputs": [],
   "source": [
    "def save_images(pdf_folder, output_folder):\n",
    "    for pdf_file in os.listdir(pdf_folder):\n",
    "        if pdf_file.endswith('.pdf'):\n",
    "            process_pdf(os.path.join(pdf_folder, pdf_file), output_folder)"
   ]
  },
  {
   "cell_type": "code",
   "execution_count": null,
   "id": "6ca16b85-920b-418d-9f2e-6d36087b259a",
   "metadata": {
    "tags": []
   },
   "outputs": [],
   "source": [
    "pdf_folder = '/home/jupyter/data/1_test_forages'\n",
    "output_folder = '/home/jupyter/data/2_images_test_forages'"
   ]
  },
  {
   "cell_type": "code",
   "execution_count": null,
   "id": "cca116f4-2352-4aa1-bb44-798b8be9a990",
   "metadata": {
    "tags": []
   },
   "outputs": [],
   "source": [
    "save_images(pdf_folder, output_folder)"
   ]
  },
  {
   "cell_type": "code",
   "execution_count": null,
   "id": "4a935748-ff33-444c-bcf9-6b868b6db616",
   "metadata": {
    "tags": []
   },
   "outputs": [],
   "source": [
    "# Esta función lee un archivo PDF y guarda cada página como imagen PNG en el folder de salida con alta resolución\n",
    "def process_pdf(pdf_path, output_folder, dpi=300):\n",
    "    filename = os.path.splitext(os.path.basename(pdf_path))[0]\n",
    "    folder_path = os.path.join(output_folder, filename)\n",
    "    os.makedirs(folder_path, exist_ok=True)\n",
    "    \n",
    "    with fitz.open(pdf_path) as doc:\n",
    "        for page_number, page in enumerate(doc, start=1):\n",
    "            image_path = os.path.join(folder_path, f\"_{page_number}.png\")\n",
    "            # Se ajusta la resolución a través del zoom (dpi / 72)\n",
    "            zoom = dpi / 72\n",
    "            matrix = fitz.Matrix(zoom, zoom)  # Matriz de escalado para aumentar la resolución\n",
    "            pix = page.get_pixmap(matrix=matrix, alpha=True)\n",
    "            pix.save(image_path)\n",
    "            print(f\"Guardada la página {page_number} del archivo {pdf_path} como {image_path} en {dpi} DPI\")\n",
    "\n",
    "# Esta función procesa todos los archivos PDF en un folder\n",
    "def save_images(pdf_folder, output_folder, dpi=300):\n",
    "    for pdf_file in os.listdir(pdf_folder):\n",
    "        if pdf_file.endswith('.pdf'):\n",
    "            process_pdf(os.path.join(pdf_folder, pdf_file), output_folder, dpi)"
   ]
  },
  {
   "cell_type": "code",
   "execution_count": null,
   "id": "151bcb25-ce00-4b19-90e5-01447cf78955",
   "metadata": {
    "tags": []
   },
   "outputs": [],
   "source": [
    "save_images(pdf_folder, output_folder, dpi=300)"
   ]
  }
 ],
 "metadata": {
  "environment": {
   "kernel": "conda-base-py",
   "name": "workbench-notebooks.m124",
   "type": "gcloud",
   "uri": "us-docker.pkg.dev/deeplearning-platform-release/gcr.io/workbench-notebooks:m124"
  },
  "kernelspec": {
   "display_name": "Python 3 (ipykernel) (Local)",
   "language": "python",
   "name": "conda-base-py"
  },
  "language_info": {
   "codemirror_mode": {
    "name": "ipython",
    "version": 3
   },
   "file_extension": ".py",
   "mimetype": "text/x-python",
   "name": "python",
   "nbconvert_exporter": "python",
   "pygments_lexer": "ipython3",
   "version": "3.10.14"
  }
 },
 "nbformat": 4,
 "nbformat_minor": 5
}
