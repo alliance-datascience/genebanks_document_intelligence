{
 "cells": [
  {
   "cell_type": "code",
   "execution_count": null,
   "id": "0b1d47ca",
   "metadata": {},
   "outputs": [],
   "source": [
    "import base64\n",
    "import requests\n",
    "import re\n",
    "import json\n",
    "import pandas as pd\n",
    "import os\n",
    "import yaml"
   ]
  },
  {
   "cell_type": "code",
   "execution_count": null,
   "id": "3bfbe902-c2aa-4027-ad3a-0294125bee5d",
   "metadata": {},
   "outputs": [],
   "source": [
    "OPENAI_API_KEY = os.getenv(\"OPENAI_API_KEY\")"
   ]
  },
  {
   "cell_type": "code",
   "execution_count": null,
   "id": "8b35724e",
   "metadata": {},
   "outputs": [],
   "source": [
    "\n",
    "prompt = \"\"\"Actúa como observador de colectas que encuentra y extrae la información solicitada de una imagen de un informe de colecta.\n",
    "Necesito que extraigas TODA la información específica donde encuentres altitud, latitud y longitud y la estructures en formato JSON que contenga todas las accesiones diferentes\n",
    "relacionadas en esa colección y asignar a cada una la información correspondiente de: colector, número de accesión, país, departamento, estatus, especie, nombre local, municipio, fuente, fecha, lugar, altitud, longitud, latitud. \n",
    "Puede haber más información o menos información que la mencionada. El objetivo que no debes dejar pasar es el identificador de la semilla, altitud, longitud y latitud en TODO.\n",
    "\n",
    "Este es un ejemplo de como deberia resultar la data de una accesión:\n",
    "\n",
    "    \"colectores\": \"DEBOUCK DG LOPEZ L ANGULO N & TORO O\",\n",
    "    \"numero_accesión\": 2928,\n",
    "    \"pais\": \"CLB\",\n",
    "    \"departamento\": \"HUILA\",\n",
    "    \"municipio\": \"SANTA MARIA\",\n",
    "    \"especie\": \"P.lunatus\",\n",
    "    \"lugar\": \"7 Km W Puerto El Socorro, Las Delicias\",\n",
    "    \"altitud\": 1030,\n",
    "    \"longitud\": \"75.34W\",\n",
    "    \"latitud\": \"02.57N\"\n",
    "\n",
    "Aquí está la imagen que necesito que procese\"\"\""
   ]
  },
  {
   "cell_type": "code",
   "execution_count": null,
   "id": "47b5c68c",
   "metadata": {},
   "outputs": [],
   "source": [
    "def encode_image(image_path):\n",
    "  with open(image_path, \"rb\") as image_file:\n",
    "    return base64.b64encode(image_file.read()).decode('utf-8')\n",
    "  \n",
    "def stringToJson(text):\n",
    "    json_match = re.search(r'```json\\n(.*\\n)```', text, re.DOTALL)\n",
    "    if json_match:\n",
    "        json_str = json_match.group(1).strip()\n",
    "        try:\n",
    "            # Carga el JSON desde la cadena\n",
    "            json_data = json.loads(json_str)\n",
    "            return json_data\n",
    "        except json.JSONDecodeError as e:\n",
    "            print(f\"Error decoding JSON: {e}\")\n",
    "            return None\n",
    "    else:\n",
    "        print(\"No JSON found in the string.\")\n",
    "        return None\n",
    "\n",
    "def extract_json_from_string(string):\n",
    "    # Define una expresión regular para encontrar el JSON dentro de la cadena\n",
    "    json_pattern = re.compile(r'\\{.*?\\}', re.DOTALL)\n",
    "    \n",
    "    # Busca el JSON en la cadena\n",
    "    match = json_pattern.search(string)\n",
    "    \n",
    "    if match:\n",
    "        json_str = match.group(0)\n",
    "        try:\n",
    "            # Intenta convertir la cadena JSON a un objeto Python\n",
    "            json_obj = json.loads(json_str)\n",
    "            return json_obj\n",
    "        except json.JSONDecodeError:\n",
    "            raise ValueError(\"La cadena contiene un JSON no válido\")\n",
    "    else:\n",
    "        raise ValueError(\"No se encontró un JSON en la cadena proporcionada\")"
   ]
  },
  {
   "cell_type": "code",
   "execution_count": null,
   "id": "dfe168f4",
   "metadata": {},
   "outputs": [],
   "source": [
    "# Path\n",
    "directory_path = '/home/ec2-user/SageMaker/genebanks/data/2_images/Germplasm collection-Colombia-1990'\n",
    "# Crear un DataFrame vacío\n",
    "df = pd.DataFrame()"
   ]
  },
  {
   "cell_type": "code",
   "execution_count": null,
   "id": "303ef8d7",
   "metadata": {
    "tags": []
   },
   "outputs": [],
   "source": [
    "# Recorrer todas las imágenes en el directorio\n",
    "for filename in os.listdir(directory_path):\n",
    "    if filename.endswith(\".png\") or filename.endswith(\".jpg\") or filename.endswith(\".jpeg\"):\n",
    "        image_path = os.path.join(directory_path, filename)\n",
    "\n",
    "        # Codificar la imagen\n",
    "        base64_image = encode_image(image_path)\n",
    "\n",
    "        headers = {\n",
    "            \"Content-Type\": \"application/json\",\n",
    "            \"Authorization\": f\"Bearer {api_key}\"\n",
    "        }\n",
    "\n",
    "        payload = {\n",
    "            \"model\": \"gpt-4o\",\n",
    "            \"messages\": [\n",
    "                {\n",
    "                    \"role\": \"user\",\n",
    "                    \"content\": [\n",
    "                        {\n",
    "                            \"type\": \"text\",\n",
    "                            \"text\": f\"{prompt}\"\n",
    "                        },\n",
    "                        {\n",
    "                            \"type\": \"image_url\",\n",
    "                            \"image_url\": {\n",
    "                                \"url\": f\"data:image/jpeg;base64,{base64_image}\"\n",
    "                            }\n",
    "                        }\n",
    "                    ]\n",
    "                }\n",
    "            ],\n",
    "            \"max_tokens\": 1200\n",
    "        }\n",
    "\n",
    "        response = requests.post(\"https://api.openai.com/v1/chat/completions\", headers=headers, json=payload)\n",
    "        res = response.json()\n",
    "\n",
    "        try:\n",
    "            extracted_json = extract_json_from_string(res['choices'][0]['message']['content'])\n",
    "            if extracted_json:\n",
    "                # Agregar el JSON extraído al DataFrame\n",
    "                df = pd.concat([df, pd.DataFrame([extracted_json])], ignore_index=True)\n",
    "        except ValueError as e:\n",
    "            print(e)\n",
    "\n",
    "# Mostrar el DataFrame resultante\n"
   ]
  },
  {
   "cell_type": "code",
   "execution_count": null,
   "id": "4cbb8a22",
   "metadata": {},
   "outputs": [],
   "source": [
    "# Getting the base64 string\n",
    "base64_image = encode_image(image_path)\n",
    "\n",
    "headers = {\n",
    "  \"Content-Type\": \"application/json\",\n",
    "  \"Authorization\": f\"Bearer {api_key}\"\n",
    "}\n",
    "\n",
    "payload = {\n",
    "  \"model\": \"gpt-4o\",\n",
    "  \"messages\": [\n",
    "    {\n",
    "      \"role\": \"user\",\n",
    "      \"content\": [\n",
    "        {\n",
    "          \"type\": \"text\",\n",
    "          \"text\": f\"{prompt}\"\n",
    "        },\n",
    "        {\n",
    "          \"type\": \"image_url\",\n",
    "          \"image_url\": {\n",
    "            \"url\": f\"data:image/jpeg;base64,{base64_image}\"\n",
    "          }\n",
    "        }\n",
    "      ]\n",
    "    }\n",
    "  ],\n",
    "  \"max_tokens\": 1200\n",
    "}"
   ]
  },
  {
   "cell_type": "code",
   "execution_count": null,
   "id": "43bd8029",
   "metadata": {},
   "outputs": [],
   "source": [
    "response = requests.post(\"https://api.openai.com/v1/chat/completions\", headers=headers, json=payload)"
   ]
  },
  {
   "cell_type": "code",
   "execution_count": null,
   "id": "2d31b248",
   "metadata": {},
   "outputs": [],
   "source": [
    "res = response.json()"
   ]
  },
  {
   "cell_type": "code",
   "execution_count": null,
   "id": "28318d85",
   "metadata": {
    "tags": []
   },
   "outputs": [],
   "source": [
    "print(res)"
   ]
  },
  {
   "cell_type": "code",
   "execution_count": null,
   "id": "8c91de55",
   "metadata": {},
   "outputs": [],
   "source": [
    "def extract_json_from_string(string):\n",
    "    # Define una expresión regular para encontrar el JSON dentro de la cadena\n",
    "    json_pattern = re.compile(r'\\{.*?\\}', re.DOTALL)\n",
    "    \n",
    "    # Busca el JSON en la cadena\n",
    "    match = json_pattern.search(string)\n",
    "    \n",
    "    if match:\n",
    "        json_str = match.group(0)\n",
    "        try:\n",
    "            # Intenta convertir la cadena JSON a un objeto Python\n",
    "            json_obj = json.loads(json_str)\n",
    "            return json_obj\n",
    "        except json.JSONDecodeError:\n",
    "            raise ValueError(\"La cadena contiene un JSON no válido\")\n",
    "    else:\n",
    "        raise ValueError(\"No se encontró un JSON en la cadena proporcionada\")"
   ]
  },
  {
   "cell_type": "code",
   "execution_count": null,
   "id": "7af4933a",
   "metadata": {},
   "outputs": [],
   "source": [
    "try:\n",
    "    extracted_json = extract_json_from_string(res['choices'][0]['message']['content'])\n",
    "    print(extracted_json)\n",
    "except ValueError as e:\n",
    "    print(e)"
   ]
  },
  {
   "cell_type": "code",
   "execution_count": null,
   "id": "05e96c33",
   "metadata": {},
   "outputs": [],
   "source": [
    "df = pd.DataFrame([extracted_json])"
   ]
  }
 ],
 "metadata": {
  "environment": {
   "kernel": "python3",
   "name": "workbench-notebooks.m118",
   "type": "gcloud",
   "uri": "us-docker.pkg.dev/deeplearning-platform-release/gcr.io/workbench-notebooks:m118"
  },
  "kernelspec": {
   "display_name": "Python 3 (ipykernel) (Local)",
   "language": "python",
   "name": "python3"
  },
  "language_info": {
   "codemirror_mode": {
    "name": "ipython",
    "version": 3
   },
   "file_extension": ".py",
   "mimetype": "text/x-python",
   "name": "python",
   "nbconvert_exporter": "python",
   "pygments_lexer": "ipython3",
   "version": "3.10.13"
  }
 },
 "nbformat": 4,
 "nbformat_minor": 5
}
